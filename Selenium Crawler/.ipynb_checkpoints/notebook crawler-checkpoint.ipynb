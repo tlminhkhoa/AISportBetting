{
 "cells": [
  {
   "cell_type": "code",
   "execution_count": 62,
   "metadata": {},
   "outputs": [
    {
     "name": "stderr",
     "output_type": "stream",
     "text": [
      "c:\\users\\khoas\\appdata\\local\\programs\\python\\python37\\lib\\site-packages\\ipykernel_launcher.py:10: DeprecationWarning: use options instead of chrome_options\n",
      "  # Remove the CWD from sys.path while we load stuff.\n"
     ]
    }
   ],
   "source": [
    "import time\n",
    "from selenium import webdriver\n",
    "from selenium.webdriver.common.by import By\n",
    "from selenium.webdriver.support.ui import WebDriverWait\n",
    "from selenium.webdriver.support import expected_conditions as EC\n",
    "import selenium\n",
    "from selenium.webdriver.common.keys import Keys\n",
    "chrome_options = webdriver.ChromeOptions()\n",
    "chrome_options.add_argument(\"--disable-notifications\")\n",
    "driver = webdriver.Chrome('./chromedriver.exe',chrome_options=chrome_options)\n",
    "\n",
    "driver.get('https://www.on.bet365.ca/?_h=i6FhPo_5b_3Wczvkek1JWQ%3D%3D#/AC/B1/C1/D1002/G40/I1/Q1/F^24/')\n",
    "# time.sleep(5)\n",
    "# elements = WebDriverWait(driver, 20).until(\n",
    "#         EC.presence_of_element_located((\n",
    "#             By.CLASS_NAME, \"\"\"suf-CompetitionMarketGroupButton_Text\"\"\")) \n",
    "#         )\n",
    "\n",
    "# print(len(elements))"
   ]
  },
  {
   "cell_type": "code",
   "execution_count": 63,
   "metadata": {},
   "outputs": [],
   "source": [
    "driver.find_element_by_xpath(\"\"\"/html/body/div[3]/div/div[2]/div[2]\"\"\").click()"
   ]
  },
  {
   "cell_type": "code",
   "execution_count": 122,
   "metadata": {},
   "outputs": [
    {
     "name": "stdout",
     "output_type": "stream",
     "text": [
      "Argentina Liga Profesional\n",
      "Argentina Nacional B\n",
      "Chile Cup\n",
      "China Super League\n",
      "Paraguay Division Profesional\n",
      "Peru Primera Division\n",
      "Republic of Ireland Premier Division\n",
      "Sweden Superettan\n",
      "Uruguay Torneo Intermedio\n",
      "Argentina Liga Profesional\n",
      "Chile Cup\n",
      "Peru Primera Division\n",
      "Argentina Liga Profesional\n",
      "Argentina Liga Profesional\n",
      "Argentina Liga Profesional\n",
      "Argentina Liga Profesional\n",
      "Argentina Liga Profesional\n",
      "Argentina Liga Profesional\n",
      "Argentina Liga Profesional\n",
      "Argentina Liga Profesional\n",
      "Argentina Liga Profesional\n",
      "Argentina Liga Profesional\n",
      "Argentina Liga Profesional\n",
      "Argentina Liga Profesional\n",
      "Argentina Liga Profesional\n",
      "Argentina Liga Profesional\n",
      "Argentina Liga Profesional\n",
      "Argentina Liga Profesional\n",
      "Argentina Liga Profesional\n",
      "Argentina Liga Profesional\n",
      "Argentina Liga Profesional\n",
      "Argentina Liga Profesional\n",
      "Argentina Liga Profesional\n",
      "Argentina Liga Profesional\n"
     ]
    }
   ],
   "source": [
    "while True:\n",
    "    a= driver.find_elements_by_class_name(\"\"\"suf-CompetitionMarketGroup-collapsed\"\"\")\n",
    "\n",
    "    for el in a:\n",
    "        try:\n",
    "            print(el.text)\n",
    "            el.click()\n",
    "        except:\n",
    "            pass\n",
    "    if len(a) == 0:\n",
    "        break"
   ]
  },
  {
   "cell_type": "code",
   "execution_count": 123,
   "metadata": {},
   "outputs": [],
   "source": [
    "className = \"\"\"rcl-ParticipantFixtureDetails_TeamAndScoresContainer\"\"\"\n",
    "\n",
    "TeamELs = driver.find_elements_by_class_name(className)\n",
    "\n",
    "for el in TeamELs:\n",
    "    className = \"\"\"sgl-ParticipantOddsOnly80_Odds\"\"\"\n",
    "    OddELs = el.find_elements_by_class_name(className)\n"
   ]
  },
  {
   "cell_type": "code",
   "execution_count": 118,
   "metadata": {},
   "outputs": [
    {
     "name": "stdout",
     "output_type": "stream",
     "text": [
      "72\n"
     ]
    }
   ],
   "source": [
    "className = \"\"\"sgl-ParticipantOddsOnly80_Odds\"\"\"\n",
    "\n",
    "OddELs = driver.find_elements_by_class_name(className)\n",
    "\n",
    "print(len(OddELs))"
   ]
  },
  {
   "cell_type": "code",
   "execution_count": 163,
   "metadata": {},
   "outputs": [
    {
     "data": {
      "text/plain": [
       "[['-118', '+175', '-334'], ['+250', '+230', '+425'], ['+275', '+130', '+700']]"
      ]
     },
     "execution_count": 163,
     "metadata": {},
     "output_type": "execute_result"
    }
   ],
   "source": [
    "className = \"\"\"gl-MarketGroupContainer\"\"\"\n",
    "\n",
    "els = driver.find_elements_by_class_name(className)\n",
    "\n",
    "count = 0\n",
    "\n",
    "for el in els:\n",
    "    elText = el.text\n",
    "    if elText == \"\":\n",
    "        continue\n",
    "    className = \"\"\"rcl-ParticipantFixtureDetails_TeamAndScoresContainer\"\"\"\n",
    "\n",
    "    TeamELs = el.find_elements_by_class_name(className)\n",
    "\n",
    "    \n",
    "    className = \"\"\"sgl-ParticipantOddsOnly80_Odds\"\"\"\n",
    "\n",
    "    OddELs = el.find_elements_by_class_name(className)\n",
    "\n",
    "    odds = []\n",
    "    onematchOdd = []\n",
    "    count = 0\n",
    "    for el in OddELs:\n",
    "        onematchOdd.append(el.text)\n",
    "        count+=1\n",
    "        if count == len(TeamELs):\n",
    "            odds.append(onematchOdd)\n",
    "            count = 0\n",
    "            onematchOdd = []\n",
    "    \n",
    "    break\n",
    "odds"
   ]
  },
  {
   "cell_type": "code",
   "execution_count": 141,
   "metadata": {},
   "outputs": [
    {
     "data": {
      "text/plain": [
       "True"
      ]
     },
     "execution_count": 141,
     "metadata": {},
     "output_type": "execute_result"
    }
   ],
   "source": [
    "\"1100\".isdigit()"
   ]
  },
  {
   "cell_type": "code",
   "execution_count": 119,
   "metadata": {},
   "outputs": [],
   "source": [
    "odds = []\n",
    "onematchOdd = []\n",
    "count = 0\n",
    "for el in OddELs:\n",
    "    onematchOdd.append(el.text)\n",
    "    count+=1\n",
    "    if count == 3:\n",
    "        odds.append(onematchOdd)\n",
    "        count = 0\n",
    "        onematchOdd = []"
   ]
  },
  {
   "cell_type": "code",
   "execution_count": 120,
   "metadata": {},
   "outputs": [
    {
     "data": {
      "text/plain": [
       "[['-118', '+175', '-334'],\n",
       " ['+250', '+230', '+425'],\n",
       " ['+275', '+130', '+700'],\n",
       " ['-6600', '+187', '+2000'],\n",
       " ['+210', '+8000', '+160'],\n",
       " ['+900', '+120', '+125'],\n",
       " ['+145', '-1200', '+187'],\n",
       " ['+187', '+180', '+2000'],\n",
       " ['+300', '+280', '+250'],\n",
       " ['-1600', '+1000', '+2500'],\n",
       " ['+100', '+275', '+250'],\n",
       " ['+260', '+260', '-106'],\n",
       " ['+137', '+240', '+200'],\n",
       " ['+210', '+187', '+125'],\n",
       " ['+275', '+250', '+100'],\n",
       " ['+8000', '+2200', '-8000'],\n",
       " ['', '', ''],\n",
       " ['', '', ''],\n",
       " ['', '-167', '+137'],\n",
       " ['-225', '', '+280'],\n",
       " ['+275', '+320', ''],\n",
       " ['+375', '+160', '+500'],\n",
       " ['', '+162', ''],\n",
       " ['+210', '', '+170']]"
      ]
     },
     "execution_count": 120,
     "metadata": {},
     "output_type": "execute_result"
    }
   ],
   "source": [
    "odds"
   ]
  },
  {
   "cell_type": "code",
   "execution_count": null,
   "metadata": {},
   "outputs": [],
   "source": []
  }
 ],
 "metadata": {
  "kernelspec": {
   "display_name": "Python 3",
   "language": "python",
   "name": "python3"
  },
  "language_info": {
   "codemirror_mode": {
    "name": "ipython",
    "version": 3
   },
   "file_extension": ".py",
   "mimetype": "text/x-python",
   "name": "python",
   "nbconvert_exporter": "python",
   "pygments_lexer": "ipython3",
   "version": "3.7.8"
  }
 },
 "nbformat": 4,
 "nbformat_minor": 4
}
